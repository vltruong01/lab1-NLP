{
 "cells": [
  {
   "cell_type": "markdown",
   "metadata": {},
   "source": [
    "# Import Required Libraries\n",
    "Import the necessary libraries, including gensim and nltk."
   ]
  },
  {
   "cell_type": "code",
   "execution_count": 6,
   "metadata": {},
   "outputs": [
    {
     "name": "stderr",
     "output_type": "stream",
     "text": [
      "[nltk_data] Downloading package brown to\n",
      "[nltk_data]     C:\\Users\\Huy\\AppData\\Roaming\\nltk_data...\n",
      "[nltk_data]   Package brown is already up-to-date!\n"
     ]
    },
    {
     "data": {
      "text/plain": [
       "True"
      ]
     },
     "execution_count": 6,
     "metadata": {},
     "output_type": "execute_result"
    }
   ],
   "source": [
    "# Import Required Libraries\n",
    "import gensim\n",
    "from gensim.models import Word2Vec\n",
    "import nltk\n",
    "from nltk.corpus import brown\n",
    "\n",
    "# Download the Brown corpus if not already downloaded\n",
    "nltk.download('brown')"
   ]
  },
  {
   "cell_type": "markdown",
   "metadata": {},
   "source": [
    "# Load and Preprocess the Corpus\n",
    "Load a real-world text corpus and preprocess it by removing stop words, punctuation, and performing other text cleaning steps."
   ]
  },
  {
   "cell_type": "code",
   "execution_count": 7,
   "metadata": {},
   "outputs": [
    {
     "name": "stderr",
     "output_type": "stream",
     "text": [
      "[nltk_data] Downloading package stopwords to\n",
      "[nltk_data]     C:\\Users\\Huy\\AppData\\Roaming\\nltk_data...\n",
      "[nltk_data]   Package stopwords is already up-to-date!\n"
     ]
    },
    {
     "data": {
      "text/plain": [
       "[['fulton',\n",
       "  'county',\n",
       "  'grand',\n",
       "  'jury',\n",
       "  'said',\n",
       "  'friday',\n",
       "  'investigation',\n",
       "  'atlantas',\n",
       "  'recent',\n",
       "  'primary',\n",
       "  'election',\n",
       "  'produced',\n",
       "  'evidence',\n",
       "  'irregularities',\n",
       "  'took',\n",
       "  'place'],\n",
       " ['jury',\n",
       "  'said',\n",
       "  'termend',\n",
       "  'presentments',\n",
       "  'city',\n",
       "  'executive',\n",
       "  'committee',\n",
       "  'overall',\n",
       "  'charge',\n",
       "  'election',\n",
       "  'deserves',\n",
       "  'praise',\n",
       "  'thanks',\n",
       "  'city',\n",
       "  'atlanta',\n",
       "  'manner',\n",
       "  'election',\n",
       "  'conducted'],\n",
       " ['septemberoctober',\n",
       "  'term',\n",
       "  'jury',\n",
       "  'charged',\n",
       "  'fulton',\n",
       "  'superior',\n",
       "  'court',\n",
       "  'judge',\n",
       "  'durwood',\n",
       "  'pye',\n",
       "  'investigate',\n",
       "  'reports',\n",
       "  'possible',\n",
       "  'irregularities',\n",
       "  'hardfought',\n",
       "  'primary',\n",
       "  'mayornominate',\n",
       "  'ivan',\n",
       "  'allen',\n",
       "  'jr'],\n",
       " ['relative',\n",
       "  'handful',\n",
       "  'reports',\n",
       "  'received',\n",
       "  'jury',\n",
       "  'said',\n",
       "  'considering',\n",
       "  'widespread',\n",
       "  'interest',\n",
       "  'election',\n",
       "  'number',\n",
       "  'voters',\n",
       "  'size',\n",
       "  'city'],\n",
       " ['jury',\n",
       "  'said',\n",
       "  'find',\n",
       "  'many',\n",
       "  'georgias',\n",
       "  'registration',\n",
       "  'election',\n",
       "  'laws',\n",
       "  'outmoded',\n",
       "  'inadequate',\n",
       "  'often',\n",
       "  'ambiguous']]"
      ]
     },
     "execution_count": 7,
     "metadata": {},
     "output_type": "execute_result"
    }
   ],
   "source": [
    "# Load and Preprocess the Corpus\n",
    "\n",
    "import string\n",
    "from nltk.corpus import stopwords\n",
    "\n",
    "# Download stopwords if not already downloaded\n",
    "nltk.download('stopwords')\n",
    "\n",
    "# Load the Brown corpus\n",
    "corpus = brown.sents()\n",
    "\n",
    "# Preprocess the corpus\n",
    "stop_words = set(stopwords.words('english'))\n",
    "processed_corpus = []\n",
    "\n",
    "for sentence in corpus:\n",
    "    # Convert to lower case\n",
    "    sentence = [word.lower() for word in sentence]\n",
    "    # Remove punctuation\n",
    "    sentence = [word.translate(str.maketrans('', '', string.punctuation)) for word in sentence]\n",
    "    # Remove stop words\n",
    "    sentence = [word for word in sentence if word not in stop_words]\n",
    "    # Remove empty strings\n",
    "    sentence = [word for word in sentence if word]\n",
    "    processed_corpus.append(sentence)\n",
    "\n",
    "# Display the first 5 processed sentences\n",
    "processed_corpus[:5]"
   ]
  },
  {
   "cell_type": "markdown",
   "metadata": {},
   "source": [
    "# Tokenize the Text\n",
    "Tokenize the cleaned text into sentences and words using nltk or another tokenizer."
   ]
  },
  {
   "cell_type": "code",
   "execution_count": 8,
   "metadata": {},
   "outputs": [
    {
     "name": "stderr",
     "output_type": "stream",
     "text": [
      "[nltk_data] Downloading package punkt to\n",
      "[nltk_data]     C:\\Users\\Huy\\AppData\\Roaming\\nltk_data...\n",
      "[nltk_data]   Package punkt is already up-to-date!\n"
     ]
    },
    {
     "data": {
      "text/plain": [
       "[['fulton',\n",
       "  'county',\n",
       "  'grand',\n",
       "  'jury',\n",
       "  'said',\n",
       "  'friday',\n",
       "  'investigation',\n",
       "  'atlantas',\n",
       "  'recent',\n",
       "  'primary',\n",
       "  'election',\n",
       "  'produced',\n",
       "  'evidence',\n",
       "  'irregularities',\n",
       "  'took',\n",
       "  'place'],\n",
       " ['jury',\n",
       "  'said',\n",
       "  'termend',\n",
       "  'presentments',\n",
       "  'city',\n",
       "  'executive',\n",
       "  'committee',\n",
       "  'overall',\n",
       "  'charge',\n",
       "  'election',\n",
       "  'deserves',\n",
       "  'praise',\n",
       "  'thanks',\n",
       "  'city',\n",
       "  'atlanta',\n",
       "  'manner',\n",
       "  'election',\n",
       "  'conducted'],\n",
       " ['septemberoctober',\n",
       "  'term',\n",
       "  'jury',\n",
       "  'charged',\n",
       "  'fulton',\n",
       "  'superior',\n",
       "  'court',\n",
       "  'judge',\n",
       "  'durwood',\n",
       "  'pye',\n",
       "  'investigate',\n",
       "  'reports',\n",
       "  'possible',\n",
       "  'irregularities',\n",
       "  'hardfought',\n",
       "  'primary',\n",
       "  'mayornominate',\n",
       "  'ivan',\n",
       "  'allen',\n",
       "  'jr'],\n",
       " ['relative',\n",
       "  'handful',\n",
       "  'reports',\n",
       "  'received',\n",
       "  'jury',\n",
       "  'said',\n",
       "  'considering',\n",
       "  'widespread',\n",
       "  'interest',\n",
       "  'election',\n",
       "  'number',\n",
       "  'voters',\n",
       "  'size',\n",
       "  'city'],\n",
       " ['jury',\n",
       "  'said',\n",
       "  'find',\n",
       "  'many',\n",
       "  'georgias',\n",
       "  'registration',\n",
       "  'election',\n",
       "  'laws',\n",
       "  'outmoded',\n",
       "  'inadequate',\n",
       "  'often',\n",
       "  'ambiguous']]"
      ]
     },
     "execution_count": 8,
     "metadata": {},
     "output_type": "execute_result"
    }
   ],
   "source": [
    "# Tokenize the Text\n",
    "\n",
    "import nltk\n",
    "nltk.download('punkt')  # Download the 'punkt' resource\n",
    "\n",
    "from nltk.tokenize import word_tokenize\n",
    "\n",
    "# Tokenize the cleaned text into words\n",
    "tokenized_sentences = [word_tokenize(' '.join(sentence)) for sentence in processed_corpus]\n",
    "\n",
    "# Display the first 5 tokenized sentences\n",
    "tokenized_sentences[:5]"
   ]
  },
  {
   "cell_type": "markdown",
   "metadata": {},
   "source": [
    "# Train the Word2Vec Model with Negative Sampling\n",
    "Use gensim's Word2Vec class to train the model on the tokenized text with negative sampling."
   ]
  },
  {
   "cell_type": "code",
   "execution_count": 9,
   "metadata": {},
   "outputs": [
    {
     "data": {
      "text/plain": [
       "['one', 'would', 'said', 'new', 'could', 'time', 'two', 'may', 'first', 'like']"
      ]
     },
     "execution_count": 9,
     "metadata": {},
     "output_type": "execute_result"
    }
   ],
   "source": [
    "# Define the Word2Vec model with negative sampling and window size of 2\n",
    "model_ns = Word2Vec(sentences=tokenized_sentences, vector_size=100, window=2, min_count=1, workers=4, sg=1, negative=5)\n",
    "\n",
    "# Train the model\n",
    "model_ns.train(tokenized_sentences, total_examples=model_ns.corpus_count, epochs=model_ns.epochs)\n",
    "\n",
    "# Save the model\n",
    "model_ns.save(\"word2vec_ns_window2.model\")\n",
    "\n",
    "# Display the vocabulary\n",
    "vocab_ns = list(model_ns.wv.index_to_key)\n",
    "vocab_ns[:10]  # Display the first 10 words in the vocabulary"
   ]
  },
  {
   "cell_type": "markdown",
   "metadata": {},
   "source": [
    "# Evaluate the Model\n",
    "Evaluate the trained Word2Vec model by finding similar words and visualizing word embeddings."
   ]
  },
  {
   "cell_type": "code",
   "execution_count": 10,
   "metadata": {},
   "outputs": [
    {
     "name": "stdout",
     "output_type": "stream",
     "text": [
      "Words similar to 'government':\n",
      "india: 0.8592736124992371\n",
      "jurisdiction: 0.8569846749305725\n",
      "constitution: 0.8497695326805115\n",
      "nations: 0.8316463232040405\n",
      "usom: 0.8296717405319214\n",
      "settlement: 0.8266482353210449\n",
      "un: 0.8260385394096375\n",
      "domestic: 0.8240547776222229\n",
      "navys: 0.8220199346542358\n",
      "governments: 0.8201817870140076\n"
     ]
    },
    {
     "data": {
      "image/png": "[encoded data removed]",
      "text/plain": [
       "<Figure size 1000x700 with 1 Axes>"
      ]
     },
     "metadata": {},
     "output_type": "display_data"
    },
    {
     "ename": "",
     "evalue": "",
     "output_type": "error",
     "traceback": [
      "\u001b[1;31mThe Kernel crashed while executing code in the current cell or a previous cell. \n",
      "\u001b[1;31mPlease review the code in the cell(s) to identify a possible cause of the failure. \n",
      "\u001b[1;31mClick <a href='https://aka.ms/vscodeJupyterKernelCrash'>here</a> for more info. \n",
      "\u001b[1;31mView Jupyter <a href='command:jupyter.viewOutput'>log</a> for further details."
     ]
    }
   ],
   "source": [
    "# Evaluate the Model\n",
    "\n",
    "# Find similar words\n",
    "similar_words_ns = model_ns.wv.most_similar('government', topn=10)\n",
    "print(\"Words similar to 'government':\")\n",
    "for word, similarity in similar_words_ns:\n",
    "    print(f\"{word}: {similarity}\")\n",
    "\n",
    "# Visualize word embeddings using PCA\n",
    "from sklearn.decomposition import PCA\n",
    "import matplotlib.pyplot as plt\n",
    "\n",
    "# Select a subset of words for visualization\n",
    "words_ns = ['government', 'country', 'president', 'people', 'state', 'war', 'law', 'court', 'party', 'election']\n",
    "word_vectors_ns = [model_ns.wv[word] for word in words_ns]\n",
    "\n",
    "# Reduce dimensions using PCA\n",
    "pca_ns = PCA(n_components=2)\n",
    "word_vectors_pca_ns = pca_ns.fit_transform(word_vectors_ns)\n",
    "\n",
    "# Plot the word embeddings\n",
    "plt.figure(figsize=(10, 7))\n",
    "plt.scatter(word_vectors_pca_ns[:, 0], word_vectors_pca_ns[:, 1])\n",
    "\n",
    "for i, word in enumerate(words_ns):\n",
    "    plt.annotate(word, xy=(word_vectors_pca_ns[i, 0], word_vectors_pca_ns[i, 1]))\n",
    "\n",
    "plt.title('Word Embeddings Visualization (Negative Sampling)')\n",
    "plt.xlabel('PCA Component 1')\n",
    "plt.ylabel('PCA Component 2')\n",
    "plt.grid(True)\n",
    "plt.show()"
   ]
  }
 ],
 "metadata": {
  "kernelspec": {
   "display_name": "Python 3",
   "language": "python",
   "name": "python3"
  },
  "language_info": {
   "codemirror_mode": {
    "name": "ipython",
    "version": 3
   },
   "file_extension": ".py",
   "mimetype": "text/x-python",
   "name": "python",
   "nbconvert_exporter": "python",
   "pygments_lexer": "ipython3",
   "version": "3.11.9"
  }
 },
 "nbformat": 4,
 "nbformat_minor": 2
}
