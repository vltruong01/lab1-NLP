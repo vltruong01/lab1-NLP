{
 "cells": [
  {
   "cell_type": "markdown",
   "metadata": {},
   "source": [
    "# Import Required Libraries\n",
    "Import the necessary libraries, including NumPy, nltk, and Gensim."
   ]
  },
  {
   "cell_type": "code",
   "execution_count": 27,
   "metadata": {},
   "outputs": [
    {
     "name": "stderr",
     "output_type": "stream",
     "text": [
      "[nltk_data] Downloading package brown to\n",
      "[nltk_data]     C:\\Users\\Huy\\AppData\\Roaming\\nltk_data...\n",
      "[nltk_data]   Package brown is already up-to-date!\n"
     ]
    },
    {
     "data": {
      "text/plain": [
       "True"
      ]
     },
     "execution_count": 27,
     "metadata": {},
     "output_type": "execute_result"
    }
   ],
   "source": [
    "# Import Required Libraries\n",
    "\n",
    "import numpy as np\n",
    "import nltk\n",
    "from nltk.corpus import brown\n",
    "from gensim.models import Word2Vec\n",
    "from gensim.test.utils import common_texts\n",
    "\n",
    "# Download the Brown corpus if not already downloaded\n",
    "nltk.download('brown')"
   ]
  },
  {
   "cell_type": "markdown",
   "metadata": {},
   "source": [
    "# Load and Preprocess the Corpus\n",
    "Load a real-world text corpus and preprocess it by removing stop words, punctuation, and performing other text cleaning steps."
   ]
  },
  {
   "cell_type": "code",
   "execution_count": 28,
   "metadata": {},
   "outputs": [
    {
     "name": "stderr",
     "output_type": "stream",
     "text": [
      "[nltk_data] Downloading package stopwords to\n",
      "[nltk_data]     C:\\Users\\Huy\\AppData\\Roaming\\nltk_data...\n",
      "[nltk_data]   Package stopwords is already up-to-date!\n"
     ]
    },
    {
     "data": {
      "text/plain": [
       "[['fulton',\n",
       "  'county',\n",
       "  'grand',\n",
       "  'jury',\n",
       "  'said',\n",
       "  'friday',\n",
       "  'investigation',\n",
       "  'atlantas',\n",
       "  'recent',\n",
       "  'primary',\n",
       "  'election',\n",
       "  'produced',\n",
       "  'evidence',\n",
       "  'irregularities',\n",
       "  'took',\n",
       "  'place'],\n",
       " ['jury',\n",
       "  'said',\n",
       "  'termend',\n",
       "  'presentments',\n",
       "  'city',\n",
       "  'executive',\n",
       "  'committee',\n",
       "  'overall',\n",
       "  'charge',\n",
       "  'election',\n",
       "  'deserves',\n",
       "  'praise',\n",
       "  'thanks',\n",
       "  'city',\n",
       "  'atlanta',\n",
       "  'manner',\n",
       "  'election',\n",
       "  'conducted'],\n",
       " ['septemberoctober',\n",
       "  'term',\n",
       "  'jury',\n",
       "  'charged',\n",
       "  'fulton',\n",
       "  'superior',\n",
       "  'court',\n",
       "  'judge',\n",
       "  'durwood',\n",
       "  'pye',\n",
       "  'investigate',\n",
       "  'reports',\n",
       "  'possible',\n",
       "  'irregularities',\n",
       "  'hardfought',\n",
       "  'primary',\n",
       "  'mayornominate',\n",
       "  'ivan',\n",
       "  'allen',\n",
       "  'jr'],\n",
       " ['relative',\n",
       "  'handful',\n",
       "  'reports',\n",
       "  'received',\n",
       "  'jury',\n",
       "  'said',\n",
       "  'considering',\n",
       "  'widespread',\n",
       "  'interest',\n",
       "  'election',\n",
       "  'number',\n",
       "  'voters',\n",
       "  'size',\n",
       "  'city'],\n",
       " ['jury',\n",
       "  'said',\n",
       "  'find',\n",
       "  'many',\n",
       "  'georgias',\n",
       "  'registration',\n",
       "  'election',\n",
       "  'laws',\n",
       "  'outmoded',\n",
       "  'inadequate',\n",
       "  'often',\n",
       "  'ambiguous']]"
      ]
     },
     "execution_count": 28,
     "metadata": {},
     "output_type": "execute_result"
    }
   ],
   "source": [
    "# Load and Preprocess the Corpus\n",
    "import string\n",
    "from nltk.corpus import stopwords\n",
    "\n",
    "# Download stopwords if not already downloaded\n",
    "nltk.download('stopwords')\n",
    "\n",
    "# Load the Brown corpus\n",
    "corpus = brown.sents()\n",
    "\n",
    "# Preprocess the corpus\n",
    "stop_words = set(stopwords.words('english'))\n",
    "processed_corpus = []\n",
    "\n",
    "for sentence in corpus:\n",
    "    # Convert to lower case\n",
    "    sentence = [word.lower() for word in sentence]\n",
    "    # Remove punctuation\n",
    "    sentence = [word.translate(str.maketrans('', '', string.punctuation)) for word in sentence]\n",
    "    # Remove stop words\n",
    "    sentence = [word for word in sentence if word not in stop_words]\n",
    "    # Remove empty strings\n",
    "    sentence = [word for word in sentence if word]\n",
    "    processed_corpus.append(sentence)\n",
    "\n",
    "# Display the first 5 processed sentences\n",
    "processed_corpus[:5]"
   ]
  },
  {
   "cell_type": "markdown",
   "metadata": {},
   "source": [
    "# Build Co-occurrence Matrix\n",
    "Build a co-occurrence matrix from the preprocessed text corpus."
   ]
  },
  {
   "cell_type": "code",
   "execution_count": 29,
   "metadata": {},
   "outputs": [
    {
     "data": {
      "text/plain": [
       "array([[0., 0., 0., 0., 0.],\n",
       "       [0., 0., 0., 0., 0.],\n",
       "       [0., 0., 0., 0., 0.],\n",
       "       [0., 0., 0., 0., 0.],\n",
       "       [0., 0., 0., 0., 0.]])"
      ]
     },
     "execution_count": 29,
     "metadata": {},
     "output_type": "execute_result"
    }
   ],
   "source": [
    "# Build Co-occurrence Matrix with Window Size = 2\n",
    "from collections import defaultdict\n",
    "from scipy.sparse import lil_matrix\n",
    "\n",
    "def build_cooccurrence_matrix(corpus, window_size=2):  # Set window size = 2\n",
    "    vocab = set([word for sentence in corpus for word in sentence])\n",
    "    vocab = {word: idx for idx, word in enumerate(vocab)}\n",
    "    vocab_size = len(vocab)\n",
    "    cooccurrence_matrix = lil_matrix((vocab_size, vocab_size), dtype=np.float64)\n",
    "\n",
    "    for sentence in corpus:\n",
    "        for i, word in enumerate(sentence):\n",
    "            word_idx = vocab[word]\n",
    "            start = max(0, i - window_size)\n",
    "            end = min(len(sentence), i + window_size + 1)\n",
    "            for j in range(start, end):\n",
    "                if i != j:\n",
    "                    context_word = sentence[j]\n",
    "                    context_word_idx = vocab[context_word]\n",
    "                    cooccurrence_matrix[word_idx, context_word_idx] += 1\n",
    "\n",
    "    return cooccurrence_matrix, vocab\n",
    "\n",
    "cooccurrence_matrix, vocab = build_cooccurrence_matrix(processed_corpus, window_size=2)\n",
    "cooccurrence_matrix[:5, :5].toarray()  # Display the first 5x5 part of the co-occurrence matrix"
   ]
  },
  {
   "cell_type": "markdown",
   "metadata": {},
   "source": [
    "# Train the GloVe Model with Gensim\n",
    "Use Gensim's GloVe implementation to train the model on the co-occurrence matrix."
   ]
  },
  {
   "cell_type": "code",
   "execution_count": 30,
   "metadata": {},
   "outputs": [
    {
     "name": "stderr",
     "output_type": "stream",
     "text": [
      "C:\\Users\\Huy\\AppData\\Local\\Temp\\ipykernel_24396\\2133431377.py:10: DeprecationWarning: Call to deprecated `glove2word2vec` (KeyedVectors.load_word2vec_format(.., binary=False, no_header=True) loads GLoVE text vectors.).\n",
      "  glove2word2vec(glove_file, word2vec_output_file)\n"
     ]
    },
    {
     "name": "stdout",
     "output_type": "stream",
     "text": [
      "Model saved as 'glove_gensim.kv'\n",
      "[('prince', 0.7682328820228577), ('queen', 0.7507690787315369), ('son', 0.7020888328552246), ('brother', 0.6985775232315063), ('monarch', 0.6977890729904175), ('throne', 0.6919989585876465), ('kingdom', 0.6811409592628479), ('father', 0.6802029013633728), ('emperor', 0.6712858080863953), ('ii', 0.6676074266433716)]\n"
     ]
    }
   ],
   "source": [
    "# Load Pre-trained GloVe with Gensim and Save\n",
    "from gensim.scripts.glove2word2vec import glove2word2vec\n",
    "from gensim.models import KeyedVectors\n",
    "\n",
    "# Path to the GloVe file\n",
    "glove_file = r\"C:\\Users\\Huy\\Downloads\\labbt\\glove.6B\\glove.6B.100d.txt\"\n",
    "\n",
    "# Convert the GloVe format file to Word2Vec format\n",
    "word2vec_output_file = 'glove_word2vec.txt'\n",
    "glove2word2vec(glove_file, word2vec_output_file)\n",
    "\n",
    "# Load the converted file into a Gensim KeyedVectors model\n",
    "glove_model = KeyedVectors.load_word2vec_format(word2vec_output_file, binary=False)\n",
    "\n",
    "# Save the model\n",
    "glove_model.save(\"glove_gensim.kv\")\n",
    "print(\"Model saved as 'glove_gensim.kv'\")\n",
    "\n",
    "# Check the first few words in the model\n",
    "print(glove_model.most_similar('king'))"
   ]
  },
  {
   "cell_type": "markdown",
   "metadata": {},
   "source": [
    "# Evaluate the Model\n",
    "Evaluate the trained GloVe model by finding similar words and visualizing word embeddings."
   ]
  },
  {
   "cell_type": "code",
   "execution_count": 31,
   "metadata": {},
   "outputs": [
    {
     "name": "stdout",
     "output_type": "stream",
     "text": [
      "Words similar to 'government':\n",
      "administration: 0.7936998605728149\n",
      "governments: 0.7700926661491394\n",
      "officials: 0.7590482234954834\n",
      "authorities: 0.7441839575767517\n",
      "opposition: 0.7371706962585449\n",
      "saying: 0.7335515022277832\n",
      "official: 0.732407808303833\n",
      "country: 0.7319549322128296\n",
      "promised: 0.7295145988464355\n",
      "military: 0.7288950681686401\n"
     ]
    },
    {
     "data": {
      "image/png": "[encoded data removed]",
      "text/plain": [
       "<Figure size 1000x700 with 1 Axes>"
      ]
     },
     "metadata": {},
     "output_type": "display_data"
    }
   ],
   "source": [
    "# Evaluate the Model\n",
    "# Find similar words\n",
    "def find_similar_words(word, model, topn=10):\n",
    "    if word not in model:\n",
    "        return []\n",
    "    similar_words = model.most_similar(word, topn=topn)\n",
    "    return similar_words\n",
    "\n",
    "# Find words similar to 'government'\n",
    "similar_words = find_similar_words('government', glove_model)\n",
    "print(\"Words similar to 'government':\")\n",
    "for word, similarity in similar_words:\n",
    "    print(f\"{word}: {similarity}\")\n",
    "\n",
    "# Visualize word embeddings using PCA\n",
    "from sklearn.decomposition import PCA\n",
    "import matplotlib.pyplot as plt\n",
    "\n",
    "# Select a subset of words for visualization\n",
    "words = ['government', 'country', 'president', 'people', 'state', 'war', 'law', 'court', 'party', 'election']\n",
    "word_vectors = [glove_model[word] for word in words]\n",
    "\n",
    "# Reduce dimensions using PCA\n",
    "pca = PCA(n_components=2)\n",
    "word_vectors_pca = pca.fit_transform(word_vectors)\n",
    "\n",
    "# Plot the word embeddings\n",
    "plt.figure(figsize=(10, 7))\n",
    "plt.scatter(word_vectors_pca[:, 0], word_vectors_pca[:, 1])\n",
    "\n",
    "for i, word in enumerate(words):\n",
    "    plt.annotate(word, xy=(word_vectors_pca[i, 0], word_vectors_pca[i, 1]))\n",
    "\n",
    "plt.title('Word Embeddings Visualization')\n",
    "plt.xlabel('PCA Component 1')\n",
    "plt.ylabel('PCA Component 2')\n",
    "plt.grid(True)\n",
    "plt.show()"
   ]
  }
 ],
 "metadata": {
  "kernelspec": {
   "display_name": "Python 3",
   "language": "python",
   "name": "python3"
  },
  "language_info": {
   "codemirror_mode": {
    "name": "ipython",
    "version": 3
   },
   "file_extension": ".py",
   "mimetype": "text/x-python",
   "name": "python",
   "nbconvert_exporter": "python",
   "pygments_lexer": "ipython3",
   "version": "3.11.9"
  }
 },
 "nbformat": 4,
 "nbformat_minor": 2
}
