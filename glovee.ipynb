{
 "cells": [
  {
   "cell_type": "markdown",
   "metadata": {},
   "source": [
    "# Import Required Libraries\n",
    "Import the necessary libraries, including NumPy and nltk."
   ]
  },
  {
   "cell_type": "code",
   "execution_count": 59,
   "metadata": {},
   "outputs": [
    {
     "name": "stderr",
     "output_type": "stream",
     "text": [
      "[nltk_data] Downloading package brown to\n",
      "[nltk_data]     C:\\Users\\Huy\\AppData\\Roaming\\nltk_data...\n",
      "[nltk_data]   Package brown is already up-to-date!\n"
     ]
    },
    {
     "data": {
      "text/plain": [
       "True"
      ]
     },
     "execution_count": 59,
     "metadata": {},
     "output_type": "execute_result"
    }
   ],
   "source": [
    "# Import Required Libraries\n",
    "\n",
    "import numpy as np\n",
    "import nltk\n",
    "from nltk.corpus import brown\n",
    "\n",
    "# Download the Brown corpus if not already downloaded\n",
    "nltk.download('brown')"
   ]
  },
  {
   "cell_type": "markdown",
   "metadata": {},
   "source": [
    "# Load and Preprocess the Corpus\n",
    "Load a real-world text corpus and preprocess it by removing stop words, punctuation, and performing other text cleaning steps."
   ]
  },
  {
   "cell_type": "code",
   "execution_count": 60,
   "metadata": {},
   "outputs": [
    {
     "name": "stderr",
     "output_type": "stream",
     "text": [
      "[nltk_data] Downloading package stopwords to\n",
      "[nltk_data]     C:\\Users\\Huy\\AppData\\Roaming\\nltk_data...\n",
      "[nltk_data]   Package stopwords is already up-to-date!\n"
     ]
    },
    {
     "data": {
      "text/plain": [
       "[['fulton',\n",
       "  'county',\n",
       "  'grand',\n",
       "  'jury',\n",
       "  'said',\n",
       "  'friday',\n",
       "  'investigation',\n",
       "  'atlantas',\n",
       "  'recent',\n",
       "  'primary',\n",
       "  'election',\n",
       "  'produced',\n",
       "  'evidence',\n",
       "  'irregularities',\n",
       "  'took',\n",
       "  'place'],\n",
       " ['jury',\n",
       "  'said',\n",
       "  'termend',\n",
       "  'presentments',\n",
       "  'city',\n",
       "  'executive',\n",
       "  'committee',\n",
       "  'overall',\n",
       "  'charge',\n",
       "  'election',\n",
       "  'deserves',\n",
       "  'praise',\n",
       "  'thanks',\n",
       "  'city',\n",
       "  'atlanta',\n",
       "  'manner',\n",
       "  'election',\n",
       "  'conducted'],\n",
       " ['septemberoctober',\n",
       "  'term',\n",
       "  'jury',\n",
       "  'charged',\n",
       "  'fulton',\n",
       "  'superior',\n",
       "  'court',\n",
       "  'judge',\n",
       "  'durwood',\n",
       "  'pye',\n",
       "  'investigate',\n",
       "  'reports',\n",
       "  'possible',\n",
       "  'irregularities',\n",
       "  'hardfought',\n",
       "  'primary',\n",
       "  'mayornominate',\n",
       "  'ivan',\n",
       "  'allen',\n",
       "  'jr'],\n",
       " ['relative',\n",
       "  'handful',\n",
       "  'reports',\n",
       "  'received',\n",
       "  'jury',\n",
       "  'said',\n",
       "  'considering',\n",
       "  'widespread',\n",
       "  'interest',\n",
       "  'election',\n",
       "  'number',\n",
       "  'voters',\n",
       "  'size',\n",
       "  'city'],\n",
       " ['jury',\n",
       "  'said',\n",
       "  'find',\n",
       "  'many',\n",
       "  'georgias',\n",
       "  'registration',\n",
       "  'election',\n",
       "  'laws',\n",
       "  'outmoded',\n",
       "  'inadequate',\n",
       "  'often',\n",
       "  'ambiguous']]"
      ]
     },
     "execution_count": 60,
     "metadata": {},
     "output_type": "execute_result"
    }
   ],
   "source": [
    "# Load and Preprocess the Corpus\n",
    "\n",
    "import string\n",
    "from nltk.corpus import stopwords\n",
    "\n",
    "# Download stopwords if not already downloaded\n",
    "nltk.download('stopwords')\n",
    "\n",
    "# Load the Brown corpus\n",
    "corpus = brown.sents()\n",
    "\n",
    "# Preprocess the corpus\n",
    "stop_words = set(stopwords.words('english'))\n",
    "processed_corpus = []\n",
    "\n",
    "for sentence in corpus:\n",
    "    # Convert to lower case\n",
    "    sentence = [word.lower() for word in sentence]\n",
    "    # Remove punctuation\n",
    "    sentence = [word.translate(str.maketrans('', '', string.punctuation)) for word in sentence]\n",
    "    # Remove stop words\n",
    "    sentence = [word for word in sentence if word not in stop_words]\n",
    "    # Remove empty strings\n",
    "    sentence = [word for word in sentence if word]\n",
    "    processed_corpus.append(sentence)\n",
    "\n",
    "# Display the first 5 processed sentences\n",
    "processed_corpus[:5]"
   ]
  },
  {
   "cell_type": "markdown",
   "metadata": {},
   "source": [
    "# Build Co-occurrence Matrix\n",
    "Build a co-occurrence matrix from the preprocessed text corpus."
   ]
  },
  {
   "cell_type": "code",
   "execution_count": 61,
   "metadata": {},
   "outputs": [
    {
     "data": {
      "text/plain": [
       "array([[0., 0., 0., 0., 0.],\n",
       "       [0., 0., 0., 0., 0.],\n",
       "       [0., 0., 0., 0., 0.],\n",
       "       [0., 0., 0., 0., 0.],\n",
       "       [0., 0., 0., 0., 0.]])"
      ]
     },
     "execution_count": 61,
     "metadata": {},
     "output_type": "execute_result"
    }
   ],
   "source": [
    "import numpy as np\n",
    "from scipy.sparse import lil_matrix\n",
    "from collections import defaultdict\n",
    "\n",
    "def build_cooccurrence_matrix(corpus, window_size=4):\n",
    "    # Create a set of all unique words in the corpus\n",
    "    vocab = set([word for sentence in corpus for word in sentence])\n",
    "    # Create a dictionary that maps each word to a unique index\n",
    "    vocab = {word: idx for idx, word in enumerate(vocab)}\n",
    "    vocab_size = len(vocab)\n",
    "    # Initialize the co-occurrence matrix as a sparse matrix\n",
    "    cooccurrence_matrix = lil_matrix((vocab_size, vocab_size), dtype=np.float64)\n",
    "\n",
    "    # Populate the co-occurrence matrix\n",
    "    for sentence in corpus:\n",
    "        for i, word in enumerate(sentence):\n",
    "            word_idx = vocab[word]\n",
    "            start = max(0, i - window_size)\n",
    "            end = min(len(sentence), i + window_size + 1)\n",
    "            for j in range(start, end):\n",
    "                if i != j:\n",
    "                    context_word = sentence[j]\n",
    "                    context_word_idx = vocab[context_word]\n",
    "                    cooccurrence_matrix[word_idx, context_word_idx] += 1\n",
    "\n",
    "    return cooccurrence_matrix, vocab\n",
    "\n",
    "# Build the co-occurrence matrix\n",
    "cooccurrence_matrix, vocab = build_cooccurrence_matrix(processed_corpus)\n",
    "# Display the first 5x5 part of the co-occurrence matrix\n",
    "cooccurrence_matrix[:5, :5].toarray()"
   ]
  },
  {
   "cell_type": "markdown",
   "metadata": {},
   "source": [
    "# Train the GloVE Model\n",
    "Implement the GloVE algorithm and train the model on the co-occurrence matrix."
   ]
  },
  {
   "cell_type": "code",
   "execution_count": 62,
   "metadata": {},
   "outputs": [
    {
     "name": "stdout",
     "output_type": "stream",
     "text": [
      "Epoch: 1, Cost: 1095514.6854216715\n",
      "Epoch: 2, Cost: 293420.5828326012\n",
      "Epoch: 3, Cost: 190824.7512285667\n",
      "Epoch: 4, Cost: 142020.94992546452\n",
      "Epoch: 5, Cost: 112924.70754506097\n",
      "Epoch: 6, Cost: 93455.80942344412\n",
      "Epoch: 7, Cost: 79477.57138869159\n",
      "Epoch: 8, Cost: 68950.45786995113\n",
      "Epoch: 9, Cost: 60742.01469359678\n",
      "Epoch: 10, Cost: 54169.256977340345\n"
     ]
    }
   ],
   "source": [
    "# Train the GloVE Model\n",
    "import numpy as np\n",
    "\n",
    "class GloVe:\n",
    "    def __init__(self, vocab_size, embedding_dim, x_max=100, alpha=0.75):\n",
    "        self.vocab_size = vocab_size\n",
    "        self.embedding_dim = embedding_dim\n",
    "        self.x_max = x_max\n",
    "        self.alpha = alpha\n",
    "        self.W = np.random.rand(vocab_size, embedding_dim)\n",
    "        self.W_tilde = np.random.rand(vocab_size, embedding_dim)\n",
    "        self.b = np.random.rand(vocab_size)\n",
    "        self.b_tilde = np.random.rand(vocab_size)\n",
    "        self.gradsq_W = np.ones((vocab_size, embedding_dim))\n",
    "        self.gradsq_W_tilde = np.ones((vocab_size, embedding_dim))\n",
    "        self.gradsq_b = np.ones(vocab_size)\n",
    "        self.gradsq_b_tilde = np.ones(vocab_size)\n",
    "\n",
    "    def train(self, cooccurrence_matrix, epochs=10, learning_rate=0.05):  # Reduced epochs to 10\n",
    "        for epoch in range(epochs):\n",
    "            total_cost = 0\n",
    "            for i in range(self.vocab_size):\n",
    "                for j in range(self.vocab_size):\n",
    "                    if cooccurrence_matrix[i, j] > 0:\n",
    "                        weight = (cooccurrence_matrix[i, j] / self.x_max) ** self.alpha if cooccurrence_matrix[i, j] < self.x_max else 1\n",
    "                        cost = (np.dot(self.W[i], self.W_tilde[j]) + self.b[i] + self.b_tilde[j] - np.log(cooccurrence_matrix[i, j])) ** 2\n",
    "                        total_cost += 0.5 * weight * cost\n",
    "\n",
    "                        grad_common = weight * (np.dot(self.W[i], self.W_tilde[j]) + self.b[i] + self.b_tilde[j] - np.log(cooccurrence_matrix[i, j]))\n",
    "                        grad_W_i = grad_common * self.W_tilde[j]\n",
    "                        grad_W_tilde_j = grad_common * self.W[i]\n",
    "                        grad_b_i = grad_common\n",
    "                        grad_b_tilde_j = grad_common\n",
    "\n",
    "                        self.W[i] -= learning_rate * grad_W_i / np.sqrt(self.gradsq_W[i])\n",
    "                        self.W_tilde[j] -= learning_rate * grad_W_tilde_j / np.sqrt(self.gradsq_W_tilde[j])\n",
    "                        self.b[i] -= learning_rate * grad_b_i / np.sqrt(self.gradsq_b[i])\n",
    "                        self.b_tilde[j] -= learning_rate * grad_b_tilde_j / np.sqrt(self.gradsq_b_tilde[j])\n",
    "\n",
    "                        self.gradsq_W[i] += grad_W_i ** 2\n",
    "                        self.gradsq_W_tilde[j] += grad_W_tilde_j ** 2\n",
    "                        self.gradsq_b[i] += grad_b_i ** 2\n",
    "                        self.gradsq_b_tilde[j] += grad_b_tilde_j ** 2\n",
    "\n",
    "            print(f'Epoch: {epoch + 1}, Cost: {total_cost}')\n",
    "\n",
    "# Initialize and train the GloVe model\n",
    "embedding_dim = 50  # Reduced embedding dimension to 50\n",
    "glove = GloVe(vocab_size=len(vocab), embedding_dim=embedding_dim)\n",
    "glove.train(cooccurrence_matrix, epochs=10, learning_rate=0.05)"
   ]
  },
  {
   "cell_type": "markdown",
   "metadata": {},
   "source": [
    "# Evaluate the Model\n",
    "Evaluate the trained GloVE model by finding similar words and visualizing word embeddings."
   ]
  },
  {
   "cell_type": "code",
   "execution_count": 63,
   "metadata": {},
   "outputs": [
    {
     "name": "stdout",
     "output_type": "stream",
     "text": [
      "Words similar to 'government':\n",
      "states: 3.747222188700243\n",
      "af: 3.2111591086949978\n",
      "per: 3.0405071957820913\n",
      "united: 3.030209049096609\n",
      "cent: 2.6798328361438424\n",
      "federal: 2.6717433043621113\n",
      "state: 2.5672713260586524\n",
      "said: 2.4925894992050255\n",
      "vocational: 2.4831710310797446\n",
      "one: 2.4808977323647405\n"
     ]
    },
    {
     "data": {
      "image/png": "[encoded data removed]",
      "text/plain": [
       "<Figure size 1000x700 with 1 Axes>"
      ]
     },
     "metadata": {},
     "output_type": "display_data"
    }
   ],
   "source": [
    "# Evaluate the Model\n",
    "\n",
    "# Find similar words\n",
    "def find_similar_words(word, vocab, embeddings, topn=10):\n",
    "    if word not in vocab:\n",
    "        return []\n",
    "    word_idx = vocab[word]\n",
    "    word_vector = embeddings[word_idx]\n",
    "    similarities = np.dot(embeddings, word_vector)\n",
    "    similar_indices = np.argsort(-similarities)[:topn + 1]\n",
    "    similar_words = [(list(vocab.keys())[idx], similarities[idx]) for idx in similar_indices if idx != word_idx]\n",
    "    return similar_words[:topn]\n",
    "\n",
    "# Get the combined embeddings\n",
    "combined_embeddings = glove.W + glove.W_tilde\n",
    "\n",
    "# Find words similar to 'government'\n",
    "similar_words = find_similar_words('government', vocab, combined_embeddings)\n",
    "print(\"Words similar to 'government':\")\n",
    "for word, similarity in similar_words:\n",
    "    print(f\"{word}: {similarity}\")\n",
    "\n",
    "# Visualize word embeddings using PCA\n",
    "from sklearn.decomposition import PCA\n",
    "import matplotlib.pyplot as plt\n",
    "\n",
    "# Select a subset of words for visualization\n",
    "words = ['government', 'country', 'president', 'people', 'state', 'war', 'law', 'court', 'party', 'election']\n",
    "word_indices = [vocab[word] for word in words]\n",
    "word_vectors = combined_embeddings[word_indices]\n",
    "\n",
    "# Reduce dimensions using PCA\n",
    "pca = PCA(n_components=2)\n",
    "word_vectors_pca = pca.fit_transform(word_vectors)\n",
    "\n",
    "# Plot the word embeddings\n",
    "plt.figure(figsize=(10, 7))\n",
    "plt.scatter(word_vectors_pca[:, 0], word_vectors_pca[:, 1])\n",
    "\n",
    "for i, word in enumerate(words):\n",
    "    plt.annotate(word, xy=(word_vectors_pca[i, 0], word_vectors_pca[i, 1]))\n",
    "\n",
    "plt.title('Word Embeddings Visualization')\n",
    "plt.xlabel('PCA Component 1')\n",
    "plt.ylabel('PCA Component 2')\n",
    "plt.grid(True)\n",
    "plt.show()"
   ]
  },
  {
   "cell_type": "code",
   "execution_count": 64,
   "metadata": {},
   "outputs": [],
   "source": [
    "import json\n",
    "\n",
    "# Save the embeddings\n",
    "np.save('glove_embeddings.npy', combined_embeddings)\n",
    "\n",
    "# Save the vocabulary\n",
    "with open('glove_vocab.json', 'w') as f:\n",
    "    json.dump(vocab, f)"
   ]
  }
 ],
 "metadata": {
  "kernelspec": {
   "display_name": "Python 3",
   "language": "python",
   "name": "python3"
  },
  "language_info": {
   "codemirror_mode": {
    "name": "ipython",
    "version": 3
   },
   "file_extension": ".py",
   "mimetype": "text/x-python",
   "name": "python",
   "nbconvert_exporter": "python",
   "pygments_lexer": "ipython3",
   "version": "3.11.9"
  }
 },
 "nbformat": 4,
 "nbformat_minor": 2
}
